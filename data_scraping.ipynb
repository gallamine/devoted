{
 "cells": [
  {
   "cell_type": "code",
   "execution_count": 1,
   "metadata": {},
   "outputs": [],
   "source": [
    "import pandas as pd"
   ]
  },
  {
   "cell_type": "code",
   "execution_count": 2,
   "metadata": {},
   "outputs": [],
   "source": [
    "pages = ['http://ec2-54-90-234-76.compute-1.amazonaws.com/docstars_pg1.html',\n",
    "        'http://ec2-54-90-234-76.compute-1.amazonaws.com/docstars_pg2.html',\n",
    "        'http://ec2-54-90-234-76.compute-1.amazonaws.com/docstars_pg3.html']"
   ]
  },
  {
   "cell_type": "code",
   "execution_count": 3,
   "metadata": {},
   "outputs": [],
   "source": [
    "\n",
    "temp_dfs = []\n",
    "for page in pages:\n",
    "    tmp_df = pd.read_html(page,flavor='bs4',header=0)\n",
    "    temp_dfs.append(tmp_df[0])\n"
   ]
  },
  {
   "cell_type": "code",
   "execution_count": 4,
   "metadata": {},
   "outputs": [],
   "source": [
    "scraped_df = pd.concat(temp_dfs)"
   ]
  },
  {
   "cell_type": "code",
   "execution_count": 5,
   "metadata": {},
   "outputs": [],
   "source": [
    "scraped_df.sort_values(by='NPI').to_csv('scraped_djs_docstars.csv',index=False,)"
   ]
  },
  {
   "cell_type": "code",
   "execution_count": 6,
   "metadata": {},
   "outputs": [
    {
     "data": {
      "text/html": [
       "<div>\n",
       "<style scoped>\n",
       "    .dataframe tbody tr th:only-of-type {\n",
       "        vertical-align: middle;\n",
       "    }\n",
       "\n",
       "    .dataframe tbody tr th {\n",
       "        vertical-align: top;\n",
       "    }\n",
       "\n",
       "    .dataframe thead th {\n",
       "        text-align: right;\n",
       "    }\n",
       "</style>\n",
       "<table border=\"1\" class=\"dataframe\">\n",
       "  <thead>\n",
       "    <tr style=\"text-align: right;\">\n",
       "      <th></th>\n",
       "      <th>NPI</th>\n",
       "      <th>Name</th>\n",
       "      <th>Rating</th>\n",
       "    </tr>\n",
       "  </thead>\n",
       "  <tbody>\n",
       "    <tr>\n",
       "      <th>0</th>\n",
       "      <td>1487617270</td>\n",
       "      <td>Raul J Rosenthal</td>\n",
       "      <td>4.6</td>\n",
       "    </tr>\n",
       "    <tr>\n",
       "      <th>1</th>\n",
       "      <td>1558359364</td>\n",
       "      <td>David Michael Feldbaum</td>\n",
       "      <td>2.3</td>\n",
       "    </tr>\n",
       "    <tr>\n",
       "      <th>2</th>\n",
       "      <td>1366559627</td>\n",
       "      <td>Mariam Alsharif</td>\n",
       "      <td>4.7</td>\n",
       "    </tr>\n",
       "    <tr>\n",
       "      <th>3</th>\n",
       "      <td>1972865046</td>\n",
       "      <td>Armin Shivazad</td>\n",
       "      <td>1.7</td>\n",
       "    </tr>\n",
       "    <tr>\n",
       "      <th>4</th>\n",
       "      <td>1598958670</td>\n",
       "      <td>Maggie Elizarde</td>\n",
       "      <td>3.3</td>\n",
       "    </tr>\n",
       "  </tbody>\n",
       "</table>\n",
       "</div>"
      ],
      "text/plain": [
       "          NPI                    Name  Rating\n",
       "0  1487617270        Raul J Rosenthal     4.6\n",
       "1  1558359364  David Michael Feldbaum     2.3\n",
       "2  1366559627         Mariam Alsharif     4.7\n",
       "3  1972865046          Armin Shivazad     1.7\n",
       "4  1598958670         Maggie Elizarde     3.3"
      ]
     },
     "execution_count": 6,
     "metadata": {},
     "output_type": "execute_result"
    }
   ],
   "source": [
    "scraped_df.head()"
   ]
  },
  {
   "cell_type": "markdown",
   "metadata": {},
   "source": [
    "## Scraping Question 2a:\n",
    "\n",
    "What is the average rating for providers in the plan's network (that is, the providers in the SQL database you looked at above)?"
   ]
  },
  {
   "cell_type": "code",
   "execution_count": 7,
   "metadata": {},
   "outputs": [],
   "source": [
    "providers = pd.read_csv('providers_201810251253.csv')"
   ]
  },
  {
   "cell_type": "code",
   "execution_count": 8,
   "metadata": {},
   "outputs": [
    {
     "data": {
      "text/html": [
       "<div>\n",
       "<style scoped>\n",
       "    .dataframe tbody tr th:only-of-type {\n",
       "        vertical-align: middle;\n",
       "    }\n",
       "\n",
       "    .dataframe tbody tr th {\n",
       "        vertical-align: top;\n",
       "    }\n",
       "\n",
       "    .dataframe thead th {\n",
       "        text-align: right;\n",
       "    }\n",
       "</style>\n",
       "<table border=\"1\" class=\"dataframe\">\n",
       "  <thead>\n",
       "    <tr style=\"text-align: right;\">\n",
       "      <th></th>\n",
       "      <th>npi</th>\n",
       "      <th>full_name</th>\n",
       "      <th>is_pcp</th>\n",
       "    </tr>\n",
       "  </thead>\n",
       "  <tbody>\n",
       "    <tr>\n",
       "      <th>0</th>\n",
       "      <td>1720287659</td>\n",
       "      <td>ABIE ALIAS SAMUEL</td>\n",
       "      <td>False</td>\n",
       "    </tr>\n",
       "    <tr>\n",
       "      <th>1</th>\n",
       "      <td>1023038494</td>\n",
       "      <td>SURENDRA K SIRPAL</td>\n",
       "      <td>False</td>\n",
       "    </tr>\n",
       "    <tr>\n",
       "      <th>2</th>\n",
       "      <td>1689077661</td>\n",
       "      <td>ERICA  VERGARA</td>\n",
       "      <td>False</td>\n",
       "    </tr>\n",
       "    <tr>\n",
       "      <th>3</th>\n",
       "      <td>1902808678</td>\n",
       "      <td>PEDRO FRANCISCO BADILLO</td>\n",
       "      <td>False</td>\n",
       "    </tr>\n",
       "    <tr>\n",
       "      <th>4</th>\n",
       "      <td>1538123211</td>\n",
       "      <td>DENISE CRAIG HAYES</td>\n",
       "      <td>False</td>\n",
       "    </tr>\n",
       "  </tbody>\n",
       "</table>\n",
       "</div>"
      ],
      "text/plain": [
       "          npi                full_name  is_pcp\n",
       "0  1720287659        ABIE ALIAS SAMUEL   False\n",
       "1  1023038494        SURENDRA K SIRPAL   False\n",
       "2  1689077661           ERICA  VERGARA   False\n",
       "3  1902808678  PEDRO FRANCISCO BADILLO   False\n",
       "4  1538123211       DENISE CRAIG HAYES   False"
      ]
     },
     "execution_count": 8,
     "metadata": {},
     "output_type": "execute_result"
    }
   ],
   "source": [
    "providers.head()"
   ]
  },
  {
   "cell_type": "code",
   "execution_count": 9,
   "metadata": {},
   "outputs": [],
   "source": [
    "npi_in_network = set(providers['npi'])"
   ]
  },
  {
   "cell_type": "code",
   "execution_count": 10,
   "metadata": {},
   "outputs": [],
   "source": [
    "scraped_df['in_network'] = scraped_df['NPI'].apply(lambda npi: npi in npi_in_network)"
   ]
  },
  {
   "cell_type": "code",
   "execution_count": 11,
   "metadata": {},
   "outputs": [
    {
     "name": "stdout",
     "output_type": "stream",
     "text": [
      "The average rating of in-network providers is 3.283333333333334\n"
     ]
    }
   ],
   "source": [
    "in_network_rating = scraped_df.query('in_network == True')['Rating'].mean()\n",
    "print(f\"The average rating of in-network providers is {in_network_rating}\")"
   ]
  },
  {
   "cell_type": "markdown",
   "metadata": {},
   "source": [
    "### Scraping 2b \n",
    "\n",
    "What about for the plan's Primary Care providers? (you can do this either in SQL or python, but please include your code along with your answer)"
   ]
  },
  {
   "cell_type": "code",
   "execution_count": 12,
   "metadata": {},
   "outputs": [],
   "source": [
    "pcp_providers = set(providers.query('is_pcp == True')['npi'])"
   ]
  },
  {
   "cell_type": "code",
   "execution_count": 13,
   "metadata": {},
   "outputs": [],
   "source": [
    "scraped_df['pcp_provider'] = scraped_df['NPI'].apply(lambda npi: npi in pcp_providers)"
   ]
  },
  {
   "cell_type": "code",
   "execution_count": 14,
   "metadata": {},
   "outputs": [
    {
     "name": "stdout",
     "output_type": "stream",
     "text": [
      "The average rating of in-network Primary Care providers is 3.50625\n"
     ]
    }
   ],
   "source": [
    "pcp_provider_rating = scraped_df.query('pcp_provider == True')['Rating'].mean()\n",
    "print(f\"The average rating of in-network Primary Care providers is {pcp_provider_rating}\")"
   ]
  },
  {
   "cell_type": "code",
   "execution_count": null,
   "metadata": {},
   "outputs": [],
   "source": []
  }
 ],
 "metadata": {
  "kernelspec": {
   "display_name": "Python 3",
   "language": "python",
   "name": "python3"
  },
  "language_info": {
   "codemirror_mode": {
    "name": "ipython",
    "version": 3
   },
   "file_extension": ".py",
   "mimetype": "text/x-python",
   "name": "python",
   "nbconvert_exporter": "python",
   "pygments_lexer": "ipython3",
   "version": "3.6.6"
  }
 },
 "nbformat": 4,
 "nbformat_minor": 2
}
