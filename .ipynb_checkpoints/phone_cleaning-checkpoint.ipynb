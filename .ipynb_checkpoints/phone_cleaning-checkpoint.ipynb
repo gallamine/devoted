{
 "cells": [
  {
   "cell_type": "markdown",
   "metadata": {},
   "source": [
    "# Devoted Take Home\n",
    "## Section 2: Cleaning Data\n"
   ]
  },
  {
   "cell_type": "code",
   "execution_count": 1,
   "metadata": {},
   "outputs": [],
   "source": [
    "import pandas as pd\n",
    "import regex as re"
   ]
  },
  {
   "cell_type": "code",
   "execution_count": 2,
   "metadata": {},
   "outputs": [],
   "source": [
    "raw_phones = pd.read_csv('new_phone_records.csv')"
   ]
  },
  {
   "cell_type": "code",
   "execution_count": 3,
   "metadata": {},
   "outputs": [
    {
     "data": {
      "text/plain": [
       "0         305-648-1204\n",
       "1    (305) 559-188\u00073x6\n",
       "2         888.860.2778\n",
       "3         727-462-3696\n",
       "4         407-880-9631\n",
       "Name: phone, dtype: object"
      ]
     },
     "execution_count": 3,
     "metadata": {},
     "output_type": "execute_result"
    }
   ],
   "source": [
    "raw_phones['phone'].head()"
   ]
  },
  {
   "cell_type": "code",
   "execution_count": 4,
   "metadata": {},
   "outputs": [
    {
     "name": "stdout",
     "output_type": "stream",
     "text": [
      "There are 108 records and 67 unique NPIs.\n"
     ]
    }
   ],
   "source": [
    "# Is each line distinct by npi?\n",
    "print(f\"There are {len(raw_phones)} records and {raw_phones['npi'].nunique()} unique NPIs.\")\n"
   ]
  },
  {
   "cell_type": "markdown",
   "metadata": {},
   "source": [
    "For the sake of time we'll parse this line-by-line. Ordinarily we'd use idiomatic Pandas, modularize and write tests, but that is more than a 2 hr project."
   ]
  },
  {
   "cell_type": "code",
   "execution_count": 5,
   "metadata": {},
   "outputs": [
    {
     "name": "stdout",
     "output_type": "stream",
     "text": [
      "Possibly malformed number. Skipping: 35-871-3131\n",
      "Possibly malformed number. Skipping: 813-657-499\n"
     ]
    }
   ],
   "source": [
    "\n",
    "clean_phones = {'npi':[],\n",
    "               'phone_num':[]}\n",
    "\n",
    "with open('new_phone_records.csv','r') as f:\n",
    "    # Strip everything but numbers\n",
    "    skip_line = True\n",
    "    \n",
    "    for line in f:\n",
    "        # Skip the first line, as it's headers\n",
    "        if skip_line:\n",
    "            skip_line = False\n",
    "            continue\n",
    "        \n",
    "        # Ordinarily we'd use a library for reading csv, but doing this for sake of time.\n",
    "        npi, phone_string = line.strip().split(',')\n",
    "        phone_digits = re.sub('\\D','',phone_string)\n",
    "        npi = int(npi)\n",
    "            \n",
    "        if len(phone_digits) != 10:   \n",
    "            if phone_digits[0] == '1':\n",
    "                # No area code starts with 1\n",
    "                phone_digits = phone_digits[1:11]\n",
    "            else:\n",
    "                # Drop any extensions\n",
    "                phone_digits = phone_digits[:10]\n",
    "        \n",
    "        if len(phone_digits) == 9:\n",
    "            print(f\"Possibly malformed number. Skipping: {phone_string}\")\n",
    "            continue\n",
    "            \n",
    "        assert len(phone_digits) == 10, f\"{npi} {phone_string} -> {phone_digits}\"\n",
    "        clean_phones['npi'].append(npi)\n",
    "        clean_phones['phone_num'].append(phone_digits)\n",
    "            \n",
    "        #print(f\"Original number: {phone_string}. Cleaned: {phone_digits}\")\n"
   ]
  },
  {
   "cell_type": "code",
   "execution_count": 6,
   "metadata": {},
   "outputs": [],
   "source": [
    "clean_phone_df = pd.DataFrame(clean_phones)"
   ]
  },
  {
   "cell_type": "code",
   "execution_count": 7,
   "metadata": {},
   "outputs": [
    {
     "data": {
      "text/html": [
       "<div>\n",
       "<style scoped>\n",
       "    .dataframe tbody tr th:only-of-type {\n",
       "        vertical-align: middle;\n",
       "    }\n",
       "\n",
       "    .dataframe tbody tr th {\n",
       "        vertical-align: top;\n",
       "    }\n",
       "\n",
       "    .dataframe thead th {\n",
       "        text-align: right;\n",
       "    }\n",
       "</style>\n",
       "<table border=\"1\" class=\"dataframe\">\n",
       "  <thead>\n",
       "    <tr style=\"text-align: right;\">\n",
       "      <th></th>\n",
       "      <th>npi</th>\n",
       "      <th>phone_num</th>\n",
       "    </tr>\n",
       "  </thead>\n",
       "  <tbody>\n",
       "    <tr>\n",
       "      <th>0</th>\n",
       "      <td>1720074545</td>\n",
       "      <td>3056481204</td>\n",
       "    </tr>\n",
       "    <tr>\n",
       "      <th>1</th>\n",
       "      <td>1275586109</td>\n",
       "      <td>3055591883</td>\n",
       "    </tr>\n",
       "    <tr>\n",
       "      <th>2</th>\n",
       "      <td>1750686861</td>\n",
       "      <td>8888602778</td>\n",
       "    </tr>\n",
       "    <tr>\n",
       "      <th>3</th>\n",
       "      <td>1346292265</td>\n",
       "      <td>7274623696</td>\n",
       "    </tr>\n",
       "    <tr>\n",
       "      <th>4</th>\n",
       "      <td>1043462211</td>\n",
       "      <td>4078809631</td>\n",
       "    </tr>\n",
       "  </tbody>\n",
       "</table>\n",
       "</div>"
      ],
      "text/plain": [
       "          npi   phone_num\n",
       "0  1720074545  3056481204\n",
       "1  1275586109  3055591883\n",
       "2  1750686861  8888602778\n",
       "3  1346292265  7274623696\n",
       "4  1043462211  4078809631"
      ]
     },
     "execution_count": 7,
     "metadata": {},
     "output_type": "execute_result"
    }
   ],
   "source": [
    "clean_phone_df.head()"
   ]
  },
  {
   "cell_type": "code",
   "execution_count": 8,
   "metadata": {},
   "outputs": [],
   "source": [
    "clean_phone_df.to_csv('cleaned_phone_numbers.csv',index=False)"
   ]
  },
  {
   "cell_type": "markdown",
   "metadata": {},
   "source": [
    "## Import Contact Information From the Database\n",
    "\n",
    "Read in CSV we exported from Postgres:\n"
   ]
  },
  {
   "cell_type": "code",
   "execution_count": 9,
   "metadata": {},
   "outputs": [],
   "source": [
    "provider_contacts = pd.read_csv(\"provider_contact_info_201810251123.csv\")"
   ]
  },
  {
   "cell_type": "code",
   "execution_count": 10,
   "metadata": {},
   "outputs": [
    {
     "data": {
      "text/plain": [
       "npi                   int64\n",
       "address1             object\n",
       "address2             object\n",
       "city                 object\n",
       "state                object\n",
       "zip                   int64\n",
       "phone                 int64\n",
       "fax                 float64\n",
       "data_source          object\n",
       "confidence_score    float64\n",
       "update_date          object\n",
       "dtype: object"
      ]
     },
     "execution_count": 10,
     "metadata": {},
     "output_type": "execute_result"
    }
   ],
   "source": [
    "provider_contacts.dtypes"
   ]
  },
  {
   "cell_type": "code",
   "execution_count": 11,
   "metadata": {},
   "outputs": [
    {
     "data": {
      "text/html": [
       "<div>\n",
       "<style scoped>\n",
       "    .dataframe tbody tr th:only-of-type {\n",
       "        vertical-align: middle;\n",
       "    }\n",
       "\n",
       "    .dataframe tbody tr th {\n",
       "        vertical-align: top;\n",
       "    }\n",
       "\n",
       "    .dataframe thead th {\n",
       "        text-align: right;\n",
       "    }\n",
       "</style>\n",
       "<table border=\"1\" class=\"dataframe\">\n",
       "  <thead>\n",
       "    <tr style=\"text-align: right;\">\n",
       "      <th></th>\n",
       "      <th>npi</th>\n",
       "      <th>address1</th>\n",
       "      <th>address2</th>\n",
       "      <th>city</th>\n",
       "      <th>state</th>\n",
       "      <th>zip</th>\n",
       "      <th>phone</th>\n",
       "      <th>fax</th>\n",
       "      <th>data_source</th>\n",
       "      <th>confidence_score</th>\n",
       "      <th>update_date</th>\n",
       "    </tr>\n",
       "  </thead>\n",
       "  <tbody>\n",
       "    <tr>\n",
       "      <th>0</th>\n",
       "      <td>1588725329</td>\n",
       "      <td>4821 US-19</td>\n",
       "      <td>Unit 4</td>\n",
       "      <td>New Port Richey</td>\n",
       "      <td>FL</td>\n",
       "      <td>34652</td>\n",
       "      <td>7278519654</td>\n",
       "      <td>NaN</td>\n",
       "      <td>F</td>\n",
       "      <td>0.538506</td>\n",
       "      <td>2018-04-28</td>\n",
       "    </tr>\n",
       "    <tr>\n",
       "      <th>1</th>\n",
       "      <td>1750464152</td>\n",
       "      <td>201 14th St SW</td>\n",
       "      <td>NaN</td>\n",
       "      <td>Largo</td>\n",
       "      <td>FL</td>\n",
       "      <td>33770</td>\n",
       "      <td>7275885812</td>\n",
       "      <td>NaN</td>\n",
       "      <td>F</td>\n",
       "      <td>0.296417</td>\n",
       "      <td>2018-06-16</td>\n",
       "    </tr>\n",
       "    <tr>\n",
       "      <th>2</th>\n",
       "      <td>1013183425</td>\n",
       "      <td>6900 SW 80th St</td>\n",
       "      <td>NaN</td>\n",
       "      <td>Miami</td>\n",
       "      <td>FL</td>\n",
       "      <td>33143</td>\n",
       "      <td>7866628531</td>\n",
       "      <td>7.866625e+09</td>\n",
       "      <td>E</td>\n",
       "      <td>0.236841</td>\n",
       "      <td>2018-06-09</td>\n",
       "    </tr>\n",
       "    <tr>\n",
       "      <th>3</th>\n",
       "      <td>1174594204</td>\n",
       "      <td>1600 Lakeland Hills Blvd</td>\n",
       "      <td>NaN</td>\n",
       "      <td>Lakeland</td>\n",
       "      <td>FL</td>\n",
       "      <td>33805</td>\n",
       "      <td>8636807000</td>\n",
       "      <td>8.662649e+09</td>\n",
       "      <td>E</td>\n",
       "      <td>0.998330</td>\n",
       "      <td>2018-07-09</td>\n",
       "    </tr>\n",
       "    <tr>\n",
       "      <th>4</th>\n",
       "      <td>1538181680</td>\n",
       "      <td>6420 W Newberry Rd</td>\n",
       "      <td>NaN</td>\n",
       "      <td>Gainesville</td>\n",
       "      <td>FL</td>\n",
       "      <td>32605</td>\n",
       "      <td>3523323900</td>\n",
       "      <td>3.523325e+09</td>\n",
       "      <td>E</td>\n",
       "      <td>0.840828</td>\n",
       "      <td>2018-05-05</td>\n",
       "    </tr>\n",
       "  </tbody>\n",
       "</table>\n",
       "</div>"
      ],
      "text/plain": [
       "          npi                  address1 address2             city state  \\\n",
       "0  1588725329                4821 US-19   Unit 4  New Port Richey    FL   \n",
       "1  1750464152            201 14th St SW      NaN            Largo    FL   \n",
       "2  1013183425           6900 SW 80th St      NaN            Miami    FL   \n",
       "3  1174594204  1600 Lakeland Hills Blvd      NaN         Lakeland    FL   \n",
       "4  1538181680        6420 W Newberry Rd      NaN      Gainesville    FL   \n",
       "\n",
       "     zip       phone           fax data_source  confidence_score update_date  \n",
       "0  34652  7278519654           NaN           F          0.538506  2018-04-28  \n",
       "1  33770  7275885812           NaN           F          0.296417  2018-06-16  \n",
       "2  33143  7866628531  7.866625e+09           E          0.236841  2018-06-09  \n",
       "3  33805  8636807000  8.662649e+09           E          0.998330  2018-07-09  \n",
       "4  32605  3523323900  3.523325e+09           E          0.840828  2018-05-05  "
      ]
     },
     "execution_count": 11,
     "metadata": {},
     "output_type": "execute_result"
    }
   ],
   "source": [
    "provider_contacts.head()"
   ]
  },
  {
   "cell_type": "markdown",
   "metadata": {},
   "source": [
    "### Cleaning Data 3a\n",
    "How many providers who did not previously have a phone number in the database have one in the new data source?"
   ]
  },
  {
   "cell_type": "code",
   "execution_count": 12,
   "metadata": {},
   "outputs": [],
   "source": [
    "old_npi = provider_contacts['npi'].unique()"
   ]
  },
  {
   "cell_type": "code",
   "execution_count": 13,
   "metadata": {},
   "outputs": [
    {
     "data": {
      "text/plain": [
       "103"
      ]
     },
     "execution_count": 13,
     "metadata": {},
     "output_type": "execute_result"
    }
   ],
   "source": [
    "len(old_npi)"
   ]
  },
  {
   "cell_type": "code",
   "execution_count": 14,
   "metadata": {},
   "outputs": [],
   "source": [
    "new_npi = clean_phone_df['npi'].unique()"
   ]
  },
  {
   "cell_type": "code",
   "execution_count": 15,
   "metadata": {},
   "outputs": [
    {
     "data": {
      "text/plain": [
       "66"
      ]
     },
     "execution_count": 15,
     "metadata": {},
     "output_type": "execute_result"
    }
   ],
   "source": [
    "len(new_npi)"
   ]
  },
  {
   "cell_type": "markdown",
   "metadata": {},
   "source": [
    "Find the set of new NPIs that weren't in the old set of NPIs"
   ]
  },
  {
   "cell_type": "code",
   "execution_count": 16,
   "metadata": {},
   "outputs": [
    {
     "data": {
      "text/plain": [
       "{1124069992, 1720287659}"
      ]
     },
     "execution_count": 16,
     "metadata": {},
     "output_type": "execute_result"
    }
   ],
   "source": [
    "set(new_npi) - set(old_npi)"
   ]
  },
  {
   "cell_type": "code",
   "execution_count": 17,
   "metadata": {},
   "outputs": [
    {
     "name": "stdout",
     "output_type": "stream",
     "text": [
      "There are 2 NPIs in the new data that aren't in the old contact data.\n"
     ]
    }
   ],
   "source": [
    "print(f\"There are {len(set(new_npi) - set(old_npi))} NPIs in the new data that aren't in the old contact data.\")"
   ]
  },
  {
   "cell_type": "markdown",
   "metadata": {},
   "source": [
    "### Cleaning 3b\n",
    "\n",
    "How many of the records in the new data source match a phone number we already had associated with that provider.\n",
    "\n",
    "Note: By `associated` I'm assuming that means a number we'd stored at any point for that provider."
   ]
  },
  {
   "cell_type": "code",
   "execution_count": 18,
   "metadata": {},
   "outputs": [
    {
     "data": {
      "text/plain": [
       "npi           int64\n",
       "phone_num    object\n",
       "dtype: object"
      ]
     },
     "execution_count": 18,
     "metadata": {},
     "output_type": "execute_result"
    }
   ],
   "source": [
    "clean_phone_df.dtypes"
   ]
  },
  {
   "cell_type": "code",
   "execution_count": 19,
   "metadata": {},
   "outputs": [
    {
     "data": {
      "text/plain": [
       "npi                   int64\n",
       "address1             object\n",
       "address2             object\n",
       "city                 object\n",
       "state                object\n",
       "zip                   int64\n",
       "phone                 int64\n",
       "fax                 float64\n",
       "data_source          object\n",
       "confidence_score    float64\n",
       "update_date          object\n",
       "dtype: object"
      ]
     },
     "execution_count": 19,
     "metadata": {},
     "output_type": "execute_result"
    }
   ],
   "source": [
    "provider_contacts.dtypes"
   ]
  },
  {
   "cell_type": "code",
   "execution_count": 20,
   "metadata": {},
   "outputs": [
    {
     "name": "stdout",
     "output_type": "stream",
     "text": [
      "58 records from the new data match a phone number we previously stored for a npi\n"
     ]
    }
   ],
   "source": [
    "# Iterate over new items and check old data\n",
    "cnt = 0\n",
    "\n",
    "for i,row in clean_phone_df.iterrows():\n",
    "    current_provider_phone_nums = list(provider_contacts.query(f\"npi == {row['npi']}\")['phone'])\n",
    "#     if not current_provider_phone_nums:\n",
    "#         print(f\"No data for {row['phone_num']}\")\n",
    "#         continue    \n",
    "        \n",
    "    if int(row['phone_num']) in current_provider_phone_nums:\n",
    "        cnt += 1\n",
    "        \n",
    "print(f\"{cnt} records from the new data match a phone number we previously stored for a npi\")"
   ]
  },
  {
   "cell_type": "markdown",
   "metadata": {},
   "source": [
    "Note that there are multiple phone numbers stored for each NPI in the new data."
   ]
  },
  {
   "cell_type": "markdown",
   "metadata": {},
   "source": [
    "### Cleaning 3c\n",
    "\n",
    " How many records in the new data source conflict with a phone number we already had associated with that provider?"
   ]
  },
  {
   "cell_type": "markdown",
   "metadata": {},
   "source": [
    "Note: This is a fairly ambiguous statement. I *assume* this means for each row in the new data, how many times is it *different* than the *most recent* phone number for that NPI. This is a different assumption than the previous question."
   ]
  },
  {
   "cell_type": "code",
   "execution_count": 21,
   "metadata": {},
   "outputs": [
    {
     "name": "stdout",
     "output_type": "stream",
     "text": [
      "60 records from the new data conflict with the LATEST phone number we previously stored for a npi\n"
     ]
    }
   ],
   "source": [
    "# Iterate over new items and check old data's *latest* record\n",
    "cnt = 0\n",
    "\n",
    "for i,row in clean_phone_df.iterrows():\n",
    "    current_provider_phone_nums_sorted = list(provider_contacts.query(f\"npi == {row['npi']}\").sort_values(by=\"update_date\")['phone'])\n",
    "    if not current_provider_phone_nums_sorted:\n",
    "        #print(f\"No data for {row['npi']}\")\n",
    "        continue\n",
    "        \n",
    "    if int(row['phone_num']) != current_provider_phone_nums_sorted[-1]:\n",
    "        cnt += 1\n",
    "        \n",
    "print(f\"{cnt} records from the new data conflict with the LATEST phone number we previously stored for a npi\")"
   ]
  },
  {
   "cell_type": "code",
   "execution_count": null,
   "metadata": {},
   "outputs": [],
   "source": []
  }
 ],
 "metadata": {
  "kernelspec": {
   "display_name": "Python 3",
   "language": "python",
   "name": "python3"
  },
  "language_info": {
   "codemirror_mode": {
    "name": "ipython",
    "version": 3
   },
   "file_extension": ".py",
   "mimetype": "text/x-python",
   "name": "python",
   "nbconvert_exporter": "python",
   "pygments_lexer": "ipython3",
   "version": "3.6.6"
  }
 },
 "nbformat": 4,
 "nbformat_minor": 2
}
